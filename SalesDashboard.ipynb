{
 "cells": [
  {
   "cell_type": "code",
   "execution_count": null,
   "id": "db1f4b85",
   "metadata": {},
   "outputs": [],
   "source": [
    "import pandas as pd\n",
    "import random\n",
    "\n",
    "df = pd.read_csv(\"2019-Oct.csv\")\n",
    "\n",
    "# Define country list\n",
    "countries = [\"India\", \"USA\", \"China\", \"Australia\", \"London\", \"France\"]\n",
    "\n",
    "# Assign random country to each row\n",
    "df[\"country\"] = [random.choice(countries) for _ in range(len(df))]\n",
    "\n",
    "# Save to new CSV\n",
    "df.to_csv(\"2019-Oct-with-country.csv\", index=False)\n"
   ]
  }
 ],
 "metadata": {
  "kernelspec": {
   "display_name": "base",
   "language": "python",
   "name": "python3"
  },
  "language_info": {
   "codemirror_mode": {
    "name": "ipython",
    "version": 3
   },
   "file_extension": ".py",
   "mimetype": "text/x-python",
   "name": "python",
   "nbconvert_exporter": "python",
   "pygments_lexer": "ipython3",
   "version": "3.12.7"
  }
 },
 "nbformat": 4,
 "nbformat_minor": 5
}
